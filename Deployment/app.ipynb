{
 "cells": [
  {
   "cell_type": "code",
   "execution_count": 1,
   "id": "5f6c87d6-7a68-4ee4-86c7-88adbfa23902",
   "metadata": {},
   "outputs": [],
   "source": [
    "#!pip install flask\n",
    "#!pip install nest-asyncio\n",
    "#!pip install flask dill numpy nest_asyncio scikit-learn"
   ]
  },
  {
   "cell_type": "code",
   "execution_count": 2,
   "id": "40b78d3a-b255-4cf3-a013-b6752896e140",
   "metadata": {},
   "outputs": [],
   "source": [
    "import numpy as np\n",
    "import pandas as pd\n",
    "from flask import Flask, request, render_template\n",
    "import dill\n",
    "import nest_asyncio\n",
    "import traceback"
   ]
  },
  {
   "cell_type": "code",
   "execution_count": 3,
   "id": "e402dbda-7406-42d2-9383-97b3ffe7a669",
   "metadata": {},
   "outputs": [
    {
     "name": "stdout",
     "output_type": "stream",
     "text": [
      "Model berhasil dimuat!\n",
      "Prediksi percobaan: [1]\n"
     ]
    }
   ],
   "source": [
    "try:\n",
    "    with open(\"mdl.pkl\", \"rb\") as file:\n",
    "        model = dill.load(file)\n",
    "    print(\"Model berhasil dimuat!\")\n",
    "    # Lakukan tes sederhana\n",
    "    test_input = [[1, 2, 3, 4, 5, 6, 7, 8]]  # Sesuaikan dengan format input model Anda\n",
    "    prediction = model.predict(test_input)\n",
    "    print(\"Prediksi percobaan:\", prediction)\n",
    "except Exception as e:\n",
    "    print(f\"Gagal memuat model: {e}\")\n",
    "    import traceback\n",
    "    print(traceback.format_exc())"
   ]
  },
  {
   "cell_type": "code",
   "execution_count": 4,
   "id": "f4c18bfe-605f-4785-b8a4-a60589f37fd7",
   "metadata": {},
   "outputs": [],
   "source": [
    "# Terapkan nest_asyncio\n",
    "nest_asyncio.apply()\n",
    "\n",
    "# Buat aplikasi Flask\n",
    "app = Flask(__name__)\n",
    "\n",
    "# Global variables untuk model dan dataset\n",
    "model = None\n",
    "df = None\n",
    "\n",
    "# Fungsi untuk memuat model\n",
    "def load_model():\n",
    "    global model\n",
    "    try:\n",
    "        with open(\"mdl.pkl\", \"rb\") as file:\n",
    "            model = dill.load(file)\n",
    "        print(\"Model berhasil dimuat!\")\n",
    "    except FileNotFoundError:\n",
    "        print(\"Model file 'mdl.pkl' tidak ditemukan. Pastikan file ada di direktori yang benar.\")\n",
    "        raise\n",
    "    except Exception as e:\n",
    "        print(f\"Gagal memuat model: {e}\")\n",
    "        print(traceback.format_exc())\n",
    "        raise\n",
    "\n",
    "# Fungsi untuk memuat dataset\n",
    "def load_dataset():\n",
    "    global df\n",
    "    try:\n",
    "        df = pd.read_csv(\"../Dataset/Kontekstual DM/final_processed_data.csv\")\n",
    "        print(\"Dataset berhasil dimuat!\")\n",
    "    except FileNotFoundError:\n",
    "        print(\"Dataset file tidak ditemukan. Pastikan file ada di direktori yang benar.\")\n",
    "        raise\n",
    "    except Exception as e:\n",
    "        print(f\"Gagal memuat dataset: {e}\")\n",
    "        print(traceback.format_exc())\n",
    "        raise"
   ]
  },
  {
   "cell_type": "code",
   "execution_count": 5,
   "id": "f6608a7e-d057-48f9-9b25-5923afa30012",
   "metadata": {},
   "outputs": [],
   "source": [
    "# Mapping kelas status kunjungan\n",
    "status_kunjungan_mapping = {\n",
    "    0: 'Berobat jalan',\n",
    "    1: 'Rujuk lanjut', \n",
    "    2: 'Sembuh',\n",
    "    3: 'Kunjungan sehat',\n",
    "    4: 'Lain-lain/Pulang paksa/Meninggal'\n",
    "}"
   ]
  },
  {
   "cell_type": "code",
   "execution_count": 6,
   "id": "a6d2cba0-49d8-44cb-ac98-3a88d4f05ab2",
   "metadata": {},
   "outputs": [],
   "source": [
    "# Route untuk halaman utama\n",
    "@app.route(\"/\")\n",
    "def home():\n",
    "    # Ambil data untuk dropdown dari dataset\n",
    "    poliklinik_list = df['Jenis_Poliklinik'].unique()\n",
    "    diagnosis_list = df['Nama_Diagnosis'].unique()\n",
    "    provinsi_list = df['Provinsi_faskes_tujuan_rujukan'].unique()\n",
    "    kepemilikan_list = df['Kepemilikan_faskes'].unique()\n",
    "    jenis_faskes_list = df['Jenis_faskes'].unique()\n",
    "    tipe_faskes_list = df['Tipe_faskes'].unique()\n",
    "    poli_faskes_list = df['Poli_faskes'].unique()\n",
    "    jenis_kunjungan_list = df['Jenis_Kunjungan'].unique()\n",
    "\n",
    "    # Kirim data ke template\n",
    "    return render_template(\"index.html\", \n",
    "                           poliklinik_list=poliklinik_list,\n",
    "                           diagnosis_list=diagnosis_list,\n",
    "                           provinsi_list=provinsi_list,\n",
    "                           kepemilikan_list=kepemilikan_list,\n",
    "                           jenis_faskes_list=jenis_faskes_list,\n",
    "                           tipe_faskes_list=tipe_faskes_list,\n",
    "                           poli_faskes_list=poli_faskes_list,\n",
    "                           jenis_kunjungan_list=jenis_kunjungan_list)\n"
   ]
  },
  {
   "cell_type": "code",
   "execution_count": 7,
   "id": "cc430433-911b-4928-bcdf-96bbfdbeaa46",
   "metadata": {},
   "outputs": [],
   "source": [
    "@app.route(\"/predict\", methods=[\"POST\"])\n",
    "def predict():\n",
    "    try:\n",
    "        # Ambil input dari form\n",
    "        jenis_poliklinik = request.form.get('Jenis_Poliklinik')\n",
    "        nama_diagnosis = request.form.get('Nama_Diagnosis')\n",
    "        nama_provinsi = request.form.get('Provinsi_faskes_tujuan_rujukan')\n",
    "        kepemilikan_faskes = request.form.get('Kepemilikan_faskes')\n",
    "        jenis_faskes = request.form.get('Jenis_faskes')\n",
    "        tipe_faskes = request.form.get('Tipe_faskes')\n",
    "        poli_faskes = request.form.get('Poli_faskes')\n",
    "        jenis_kunjungan = request.form.get('Jenis_Kunjungan')\n",
    "\n",
    "        # Validasi input\n",
    "        if not all([\n",
    "            jenis_poliklinik, nama_diagnosis, nama_provinsi, kepemilikan_faskes, \n",
    "            jenis_faskes, tipe_faskes, poli_faskes, jenis_kunjungan \n",
    "        ]):\n",
    "            return render_template(\"index.html\", \n",
    "                                   prediction_text=\"Semua kolom harus diisi!\",\n",
    "                                   poliklinik_list=df['Jenis_Poliklinik'].unique(),\n",
    "                                   diagnosis_list=df['Nama_Diagnosis'].unique(),\n",
    "                                   provinsi_list=df['Provinsi_faskes_tujuan_rujukan'].unique(),\n",
    "                                   kepemilikan_list=df['Kepemilikan_faskes'].unique(),\n",
    "                                   jenis_faskes_list=df['Jenis_faskes'].unique(),\n",
    "                                   tipe_faskes_list=df['Tipe_faskes'].unique(),\n",
    "                                   poli_faskes_list=df['Poli_faskes'].unique(),\n",
    "                                   jenis_kunjungan_list=df['Jenis_Kunjungan'].unique())\n",
    "\n",
    "        # Mapping input ke kode numerik\n",
    "        try:\n",
    "            kode_poliklinik = df.loc[df['Jenis_Poliklinik'] == jenis_poliklinik, 'Kode_Jenis_Poliklinik'].values[0]\n",
    "            kode_diagnosis = df.loc[df['Nama_Diagnosis'] == nama_diagnosis, 'Kode_Diagnosis'].values[0]\n",
    "            kode_provinsi = df.loc[df['Provinsi_faskes_tujuan_rujukan'] == nama_provinsi, 'Kode_Provinsi_faskes_tujuan_rujukan'].values[0]\n",
    "            kode_kepemilikan = df.loc[df['Kepemilikan_faskes'] == kepemilikan_faskes, 'Kode_Kepemilikan_faskes'].values[0]\n",
    "            kode_jenis_faskes = df.loc[df['Jenis_faskes'] == jenis_faskes, 'Kode_Jenis_faskes'].values[0]\n",
    "            kode_tipe_faskes = df.loc[df['Tipe_faskes'] == tipe_faskes, 'Kode_Tipe_faskes'].values[0]\n",
    "            kode_poli_faskes = df.loc[df['Poli_faskes'] == poli_faskes, 'Kode_Poli_faskes'].values[0]\n",
    "            kode_jenis_kunjungan = df.loc[df['Jenis_Kunjungan'] == jenis_kunjungan, 'Kode_Jenis_Kunjungan'].values[0]\n",
    "        except IndexError:\n",
    "            return render_template(\"index.html\", \n",
    "                                   prediction_text=\"Input tidak valid. Pastikan data sesuai dengan dataset.\",\n",
    "                                   poliklinik_list=df['Jenis_Poliklinik'].unique(),\n",
    "                                   diagnosis_list=df['Nama_Diagnosis'].unique(),\n",
    "                                   provinsi_list=df['Provinsi_faskes_tujuan_rujukan'].unique(),\n",
    "                                   kepemilikan_list=df['Kepemilikan_faskes'].unique(),\n",
    "                                   jenis_faskes_list=df['Jenis_faskes'].unique(),\n",
    "                                   tipe_faskes_list=df['Tipe_faskes'].unique(),\n",
    "                                   poli_faskes_list=df['Poli_faskes'].unique(),\n",
    "                                   jenis_kunjungan_list=df['Jenis_Kunjungan'].unique())\n",
    "            \n",
    "        # Membuat array fitur untuk prediksi\n",
    "        features = np.array([[\n",
    "            kode_poliklinik, kode_diagnosis, kode_provinsi, kode_kepemilikan, \n",
    "            kode_jenis_faskes, kode_tipe_faskes, kode_poli_faskes, kode_jenis_kunjungan\n",
    "        ]])\n",
    "\n",
    "        # Debugging: Print fitur untuk memastikan\n",
    "        print(\"Features for prediction:\", features)\n",
    "\n",
    "        # Melakukan prediksi\n",
    "        prediction = model.predict(features)[0]\n",
    "        print(\"Prediction result:\", prediction)\n",
    "\n",
    "        # Mapping hasil prediksi ke label status kunjungan\n",
    "        prediction_label = status_kunjungan_mapping.get(prediction, \"Unknown\")\n",
    "\n",
    "        # Menampilkan hasil prediksi\n",
    "        return render_template(\"index.html\", \n",
    "                               prediction_text=f\"Status kunjungan pasien adalah: {prediction_label}\",\n",
    "                               selected_features={\n",
    "                                   \"Jenis Poliklinik\": jenis_poliklinik,\n",
    "                                   \"Nama Diagnosis\": nama_diagnosis,\n",
    "                                   \"Provinsi Faskes Tujuan Rujukan\": nama_provinsi,\n",
    "                                   \"Kepemilikan Faskes\": kepemilikan_faskes,\n",
    "                                   \"Jenis Faskes\": jenis_faskes,\n",
    "                                   \"Tipe Faskes\": tipe_faskes,\n",
    "                                   \"Poli Faskes\": poli_faskes,\n",
    "                                   \"Jenis Kunjungan\": jenis_kunjungan\n",
    "                               },\n",
    "                               poliklinik_list=df['Jenis_Poliklinik'].unique(),\n",
    "                               diagnosis_list=df['Nama_Diagnosis'].unique(),\n",
    "                               provinsi_list=df['Provinsi_faskes_tujuan_rujukan'].unique(),\n",
    "                               kepemilikan_list=df['Kepemilikan_faskes'].unique(),\n",
    "                               jenis_faskes_list=df['Jenis_faskes'].unique(),\n",
    "                               tipe_faskes_list=df['Tipe_faskes'].unique(),\n",
    "                               poli_faskes_list=df['Poli_faskes'].unique(),\n",
    "                               jenis_kunjungan_list=df['Jenis_Kunjungan'].unique())\n",
    "    except Exception as e:\n",
    "        # Debugging: Log kesalahan\n",
    "        print(\"Error in predict route:\", e)\n",
    "        return render_template(\"index.html\", \n",
    "                               prediction_text=f\"Terjadi kesalahan: {str(e)}\",\n",
    "                               poliklinik_list=df['Jenis_Poliklinik'].unique(),\n",
    "                               diagnosis_list=df['Nama_Diagnosis'].unique(),\n",
    "                               provinsi_list=df['Provinsi_faskes_tujuan_rujukan'].unique(),\n",
    "                               kepemilikan_list=df['Kepemilikan_faskes'].unique(),\n",
    "                               jenis_faskes_list=df['Jenis_faskes'].unique(),\n",
    "                               tipe_faskes_list=df['Tipe_faskes'].unique(),\n",
    "                               poli_faskes_list=df['Poli_faskes'].unique(),\n",
    "                               jenis_kunjungan_list=df['Jenis_Kunjungan'].unique())\n"
   ]
  },
  {
   "cell_type": "code",
   "execution_count": null,
   "id": "911c667c-4411-4c56-aadc-cd541aad07d6",
   "metadata": {},
   "outputs": [
    {
     "name": "stdout",
     "output_type": "stream",
     "text": [
      "Model berhasil dimuat!\n",
      "Dataset berhasil dimuat!\n",
      " * Serving Flask app '__main__'\n",
      " * Debug mode: on\n"
     ]
    },
    {
     "name": "stderr",
     "output_type": "stream",
     "text": [
      "WARNING: This is a development server. Do not use it in a production deployment. Use a production WSGI server instead.\n",
      " * Running on all addresses (0.0.0.0)\n",
      " * Running on http://127.0.0.1:5000\n",
      " * Running on http://192.168.100.37:5000\n",
      "Press CTRL+C to quit\n",
      "192.168.100.37 - - [26/Dec/2024 11:24:50] \"GET / HTTP/1.1\" 200 -\n",
      "192.168.100.37 - - [26/Dec/2024 11:25:18] \"POST /predict HTTP/1.1\" 200 -\n"
     ]
    },
    {
     "name": "stdout",
     "output_type": "stream",
     "text": [
      "Features for prediction: [[  1 343  98  98   1   5  98   1]]\n",
      "Prediction result: 4\n"
     ]
    },
    {
     "name": "stderr",
     "output_type": "stream",
     "text": [
      "192.168.100.37 - - [26/Dec/2024 11:26:34] \"POST /predict HTTP/1.1\" 200 -\n"
     ]
    },
    {
     "name": "stdout",
     "output_type": "stream",
     "text": [
      "Features for prediction: [[ 14 656  21   3   2  14  49   1]]\n",
      "Prediction result: 1\n"
     ]
    }
   ],
   "source": [
    "# Muat model dan dataset sebelum menjalankan server\n",
    "load_model()\n",
    "load_dataset()\n",
    "\n",
    "# Jalankan aplikasi\n",
    "if __name__ == \"__main__\":\n",
    "    try:\n",
    "        app.run(debug=True, host='0.0.0.0', port=5000, use_reloader=False)\n",
    "    except Exception as e:\n",
    "        print(f\"Gagal menjalankan server: {e}\")\n",
    "        print(traceback.format_exc())"
   ]
  },
  {
   "cell_type": "code",
   "execution_count": null,
   "id": "4c86be47-7b96-47ba-9648-3e176eec9e71",
   "metadata": {},
   "outputs": [],
   "source": []
  }
 ],
 "metadata": {
  "kernelspec": {
   "display_name": "Python 3 (ipykernel)",
   "language": "python",
   "name": "python3"
  },
  "language_info": {
   "codemirror_mode": {
    "name": "ipython",
    "version": 3
   },
   "file_extension": ".py",
   "mimetype": "text/x-python",
   "name": "python",
   "nbconvert_exporter": "python",
   "pygments_lexer": "ipython3",
   "version": "3.11.5"
  }
 },
 "nbformat": 4,
 "nbformat_minor": 5
}
